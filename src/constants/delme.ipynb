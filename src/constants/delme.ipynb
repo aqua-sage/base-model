{
 "cells": [
  {
   "cell_type": "code",
   "execution_count": 1,
   "id": "9fa25bdf",
   "metadata": {},
   "outputs": [],
   "source": [
    "import json\n",
    "import os\n",
    "\n",
    "def process_jsonl_to_text(input_file, output_file):\n",
    "    \"\"\"\n",
    "    Process JSONL file containing Q&A pairs and write them to a text file.\n",
    "    \n",
    "    Args:\n",
    "        input_file (str): Path to the input JSONL file\n",
    "        output_file (str): Path to the output text file\n",
    "    \"\"\"\n",
    "    with open(input_file, 'r', encoding='utf-8') as infile, open(output_file, 'w', encoding='utf-8') as outfile:\n",
    "        for line in infile:\n",
    "            try:\n",
    "                # Parse the JSONL line\n",
    "                data = json.loads(line.strip())\n",
    "                \n",
    "                # Check if the data contains messages\n",
    "                if 'messages' in data:\n",
    "                    messages = data['messages']\n",
    "                    \n",
    "                    # Find user question and assistant answer\n",
    "                    question = None\n",
    "                    answer = None\n",
    "                    \n",
    "                    for message in messages:\n",
    "                        if message['role'] == 'user':\n",
    "                            question = message['content']\n",
    "                        elif message['role'] == 'assistant':\n",
    "                            answer = message['content']\n",
    "                    \n",
    "                    # Write to output file if both question and answer exist\n",
    "                    if question and answer:\n",
    "                        outfile.write(f\"Question: {question}\\n\\n\")\n",
    "                        outfile.write(f\"Answer: {answer}\\n\\n\")\n",
    "                        outfile.write(\"-\" * 80 + \"\\n\\n\")  # Separator between Q&A pairs\n",
    "            except json.JSONDecodeError:\n",
    "                print(f\"Warning: Skipping invalid JSON line: {line[:50]}...\")\n",
    "            except Exception as e:\n",
    "                print(f\"Error processing line: {str(e)}\")\n",
    "    \n",
    "    print(f\"Processing complete. Results written to {output_file}\")\n",
    "\n"
   ]
  },
  {
   "cell_type": "code",
   "execution_count": 4,
   "id": "f5578ae8",
   "metadata": {},
   "outputs": [
    {
     "name": "stdout",
     "output_type": "stream",
     "text": [
      "Processing complete. Results written to qa_output.txt\n"
     ]
    }
   ],
   "source": [
    "\n",
    "input_file = \"superia_qa_100-1.jsonl\"  # Change this to your input file path\n",
    "output_file = \"qa_output.txt\"  # Change this to your desired output file path\n",
    "\n",
    "process_jsonl_to_text(input_file, output_file)"
   ]
  },
  {
   "cell_type": "code",
   "execution_count": null,
   "id": "fe5cd2fd",
   "metadata": {},
   "outputs": [],
   "source": []
  },
  {
   "cell_type": "code",
   "execution_count": null,
   "id": "6a79a042",
   "metadata": {},
   "outputs": [],
   "source": []
  }
 ],
 "metadata": {
  "kernelspec": {
   "display_name": "Python 3",
   "language": "python",
   "name": "python3"
  },
  "language_info": {
   "codemirror_mode": {
    "name": "ipython",
    "version": 3
   },
   "file_extension": ".py",
   "mimetype": "text/x-python",
   "name": "python",
   "nbconvert_exporter": "python",
   "pygments_lexer": "ipython3",
   "version": "3.9.6"
  }
 },
 "nbformat": 4,
 "nbformat_minor": 5
}
